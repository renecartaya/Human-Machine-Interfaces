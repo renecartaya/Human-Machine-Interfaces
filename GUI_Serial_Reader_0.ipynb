{
 "cells": [
  {
   "cell_type": "code",
   "execution_count": 1,
   "id": "473be646-ceba-4e00-b55b-44e13695068e",
   "metadata": {},
   "outputs": [
    {
     "data": {
      "text/plain": [
       "<Figure size 432x288 with 0 Axes>"
      ]
     },
     "metadata": {},
     "output_type": "display_data"
    }
   ],
   "source": [
    "###############################################################################################\n",
    "#\n",
    "#                            Real Time Plot Graphical User Interface\n",
    "#                                  \n",
    "################################################################################################\n",
    "\n",
    "# Works in connection with the AnalogReadSerial_firm_II\n",
    "\n",
    "# ============================== Packages Loading ============================================#\n",
    "\n",
    "import serial as ser\n",
    "import matplotlib.pyplot as plt\n",
    "import numpy as np\n",
    "\n",
    "serial_port = ser.Serial('COM5', 9600);\n",
    "\n",
    "plt.close('all');\n",
    "plt.figure();\n",
    "plt.ion();\n",
    "plt.show();\n",
    "\n",
    "data = np.array([]);\n",
    "\n",
    "i = 0\n",
    "\n",
    "while i < 100:\n",
    "    a = serial_port.readline()\n",
    "    a.decode();\n",
    "    b = float(a[0:4]);\n",
    "    data = np.append(data, b);\n",
    "    plt.cla();\n",
    "    plt.plot(data);\n",
    "    plt.pause(0.01);\n",
    "    i = i+1\n",
    "\n",
    "serial_port.close() # Close properly the serial communication and avoid the need to turn off/on the microcontroller board or to have to unplug/plug again"
   ]
  },
  {
   "cell_type": "code",
   "execution_count": null,
   "id": "912e38be-0c27-49c3-8664-d598c2570863",
   "metadata": {},
   "outputs": [],
   "source": []
  }
 ],
 "metadata": {
  "kernelspec": {
   "display_name": "Python 3 (ipykernel)",
   "language": "python",
   "name": "python3"
  },
  "language_info": {
   "codemirror_mode": {
    "name": "ipython",
    "version": 3
   },
   "file_extension": ".py",
   "mimetype": "text/x-python",
   "name": "python",
   "nbconvert_exporter": "python",
   "pygments_lexer": "ipython3",
   "version": "3.9.7"
  }
 },
 "nbformat": 4,
 "nbformat_minor": 5
}
